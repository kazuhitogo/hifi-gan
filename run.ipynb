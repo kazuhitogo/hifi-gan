{
 "cells": [
  {
   "cell_type": "markdown",
   "metadata": {},
   "source": [
    "# HiFi-GAN with SageMaker\n",
    "[HiFi-GAN](https://github.com/jik876/hifi-gan) のトレーニングを SageMaker Training で行います。\n",
    "\n",
    "## コンテナの作成\n",
    "* オリジナルの HiFi-GANでは、PyTorch 1.4 を使用しているため、AWS で管理している Deep Learning Container(DLC) の PyTorch 1.4 を使いたいところですが、DLC では不足しているライブラリ(libsndfile1)があるため、DLCベースイメージとしてコンテナをカスタマイズします\n",
    "  * dlc の詳細は[こちら](https://github.com/aws/deep-learning-containers)\n",
    "  * dlc で使えるコンテナイメージリストは[こちら](https://github.com/aws/deep-learning-containers/blob/master/available_images.md)\n",
    "\n",
    "### sm-docker のインストール \n",
    "* SageMaker Studio では Docker Image のビルドに sm-docker というツールを使うので、最初にインストールします"
   ]
  },
  {
   "cell_type": "code",
   "execution_count": null,
   "metadata": {
    "scrolled": true
   },
   "outputs": [],
   "source": [
    "!pip install sagemaker-studio-image-build"
   ]
  },
  {
   "cell_type": "markdown",
   "metadata": {},
   "source": [
    "### Dockerfile の生成\n",
    "リージョンの情報とアカウント情報が必要なため取得"
   ]
  },
  {
   "cell_type": "code",
   "execution_count": null,
   "metadata": {},
   "outputs": [],
   "source": [
    "import boto3\n",
    "region_name = boto3.session.Session().region_name\n",
    "account_id = boto3.client('sts').get_caller_identity()['Account']"
   ]
  },
  {
   "cell_type": "code",
   "execution_count": null,
   "metadata": {},
   "outputs": [],
   "source": [
    "dockerfile = f\"\"\"FROM 763104351884.dkr.ecr.{region_name}.amazonaws.com/pytorch-training:1.4.0-gpu-py3\n",
    "RUN apt install libsndfile1 -y\n",
    "\"\"\"\n",
    "\n",
    "with open('./container/Dockerfile','wt') as f:\n",
    "    f.write(dockerfile)"
   ]
  },
  {
   "cell_type": "markdown",
   "metadata": {},
   "source": [
    "### Studio アタッチされているロールに以下の信頼関係を追加\n",
    "以下のコマンドの出力結果をコピーして追加する"
   ]
  },
  {
   "cell_type": "code",
   "execution_count": null,
   "metadata": {
    "scrolled": true
   },
   "outputs": [],
   "source": [
    "!cat container/trust_relationships.json"
   ]
  },
  {
   "cell_type": "markdown",
   "metadata": {},
   "source": [
    "### Studio アタッチされているロールにインラインポリシー（もしくはポリシーを別途作成して）アタッチする\n",
    "以下のコマンドの出力結果をコピーしてアタッチする"
   ]
  },
  {
   "cell_type": "code",
   "execution_count": null,
   "metadata": {
    "scrolled": true
   },
   "outputs": [],
   "source": [
    "!cat container/inline_policy.json"
   ]
  },
  {
   "cell_type": "markdown",
   "metadata": {},
   "source": [
    "### コンテナイメージのビルド"
   ]
  },
  {
   "cell_type": "code",
   "execution_count": null,
   "metadata": {
    "scrolled": true
   },
   "outputs": [],
   "source": [
    "IMAGE_NAME = 'sagemaker-pytorch-hifigan'\n",
    "TAG = ':1.4'\n",
    "%cd container\n",
    "!sm-docker build . --repository {IMAGE_NAME}{TAG}\n",
    "%cd ../"
   ]
  },
  {
   "cell_type": "code",
   "execution_count": null,
   "metadata": {},
   "outputs": [],
   "source": [
    "image_uri = f'{account_id}.dkr.ecr.{region_name}.amazonaws.com/{IMAGE_NAME}{TAG}'"
   ]
  },
  {
   "cell_type": "markdown",
   "metadata": {},
   "source": [
    "## トレーニング\n",
    "### トレーニングデータの取得"
   ]
  },
  {
   "cell_type": "code",
   "execution_count": null,
   "metadata": {
    "scrolled": true
   },
   "outputs": [],
   "source": [
    "!wget https://data.keithito.com/data/speech/LJSpeech-1.1.tar.bz2 --no-check-certificate\n",
    "!tar jxvf  LJSpeech-1.1.tar.bz2 > /dev/null 2>&1"
   ]
  },
  {
   "cell_type": "markdown",
   "metadata": {},
   "source": [
    "### トレーニングデータを S3 にアップロード"
   ]
  },
  {
   "cell_type": "code",
   "execution_count": null,
   "metadata": {},
   "outputs": [],
   "source": [
    "import sagemaker\n",
    "input_data_uri = sagemaker.session.Session().upload_data(path='LJSpeech-1.1/', bucket=sagemaker.session.Session().default_bucket(), key_prefix='LJSpeech-1.1')"
   ]
  },
  {
   "cell_type": "markdown",
   "metadata": {},
   "source": [
    "### S3 にアップロードしたファイルを削除\n",
    "* テスト推論(動作確認)用に 1 ファイルだけ残す"
   ]
  },
  {
   "cell_type": "code",
   "execution_count": null,
   "metadata": {},
   "outputs": [],
   "source": [
    "!cp LJSpeech-1.1/wavs/LJ050-0278.wav ./test_wav\n",
    "!rm -rf LJSpeech-1.1/wavs/\n",
    "!rm LJSpeech-1.1.tar.bz2"
   ]
  },
  {
   "cell_type": "markdown",
   "metadata": {},
   "source": [
    "### トレーニング開始"
   ]
  },
  {
   "cell_type": "code",
   "execution_count": null,
   "metadata": {
    "scrolled": true
   },
   "outputs": [],
   "source": [
    "from sagemaker.pytorch import PyTorch\n",
    "estimator = PyTorch(\n",
    "    image_uri=image_uri,\n",
    "    entry_point='train.py',\n",
    "    source_dir = './training_src/',\n",
    "    instance_count=1,\n",
    "    instance_type='ml.g4dn.xlarge',\n",
    "    role=sagemaker.get_execution_role(),\n",
    "    hyperparameters={\n",
    "        'config':'config_v1.json',\n",
    "        'training_epochs':1\n",
    "    }\n",
    ")\n",
    "estimator.fit(input_data_uri)"
   ]
  },
  {
   "cell_type": "markdown",
   "metadata": {},
   "source": [
    "## モデルの確認\n",
    "### モデルダウンロード"
   ]
  },
  {
   "cell_type": "code",
   "execution_count": null,
   "metadata": {},
   "outputs": [],
   "source": [
    "job_result = estimator.latest_training_job.describe()"
   ]
  },
  {
   "cell_type": "code",
   "execution_count": null,
   "metadata": {},
   "outputs": [],
   "source": [
    "model_s3_uri = job_result['ModelArtifacts']['S3ModelArtifacts']\n",
    "!aws s3 cp {model_s3_uri} ./"
   ]
  },
  {
   "cell_type": "code",
   "execution_count": null,
   "metadata": {},
   "outputs": [],
   "source": [
    "!tar zxvf model.tar.gz -C ./model"
   ]
  },
  {
   "cell_type": "markdown",
   "metadata": {},
   "source": [
    "### 推論に必要なライブラリをインストール"
   ]
  },
  {
   "cell_type": "code",
   "execution_count": null,
   "metadata": {
    "scrolled": true
   },
   "outputs": [],
   "source": [
    "# !apt update\n",
    "# !apt install libsndfile1 -y\n",
    "!wget https://rpmfind.net/linux/opensuse/tumbleweed/repo/oss/x86_64/libsndfile1-1.0.31-3.2.x86_64.rpm\n",
    "!rpm -ivh libsndfile1-1.0.31-3.2.x86_64.rpm\n",
    "!pip install librosa"
   ]
  },
  {
   "cell_type": "markdown",
   "metadata": {},
   "source": [
    "### 推論実行"
   ]
  },
  {
   "cell_type": "code",
   "execution_count": null,
   "metadata": {},
   "outputs": [],
   "source": [
    "%cd inference_src/\n",
    "!python inference.py --input_wavs_dir ../test_wav --checkpoint_file ../model/g_00000809 --output_dir ../output_wavs_dir\n",
    "%cd ../"
   ]
  },
  {
   "cell_type": "code",
   "execution_count": null,
   "metadata": {},
   "outputs": [],
   "source": []
  }
 ],
 "metadata": {
  "instance_type": "ml.g4dn.xlarge",
  "kernelspec": {
   "display_name": "conda_pytorch_p38",
   "language": "python",
   "name": "conda_pytorch_p38"
  },
  "language_info": {
   "codemirror_mode": {
    "name": "ipython",
    "version": 3
   },
   "file_extension": ".py",
   "mimetype": "text/x-python",
   "name": "python",
   "nbconvert_exporter": "python",
   "pygments_lexer": "ipython3",
   "version": "3.8.12"
  }
 },
 "nbformat": 4,
 "nbformat_minor": 4
}
